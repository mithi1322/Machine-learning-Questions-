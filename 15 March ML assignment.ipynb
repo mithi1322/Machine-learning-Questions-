{
 "cells": [
  {
   "cell_type": "markdown",
   "id": "53e29f6f-3660-43e3-af7a-b5e25a1a859a",
   "metadata": {},
   "source": [
    "Q1: Explain the following with an example:\n",
    "\n",
    "1. Artificial Intelligence \n",
    "\n",
    "2. Machine Learning\n",
    "\n",
    "3. Deep Learning"
   ]
  },
  {
   "cell_type": "code",
   "execution_count": null,
   "id": "856109f8-b067-4d8a-9342-e141edfc06b0",
   "metadata": {},
   "outputs": [],
   "source": [
    "# Answer:\n",
    "'''\n",
    "1. Artificial Intelligence: Artificial Intelligence (AI) refers to the ability of machines to perform tasks that typically require human intelligence, such as visual perception, \n",
    "                            speech recognition, decision making, and language translation. AI can be achieved through various techniques, including machine learning and deep learning. \n",
    "                            For example, a chatbot that can understand and respond to human language inputs is an example of AI.\n",
    "\n",
    "2. Machine Learning: Machine Learning (ML) is a subset of AI that focuses on developing algorithms and models that can learn patterns and make predictions based on data. \n",
    "                     ML algorithms can be supervised, unsupervised, or semi-supervised. For example, a spam filter that learns to identify spam messages based on \n",
    "                     examples of previously labeled data is an example of supervised machine learning.\n",
    "\n",
    "3. Deep Learning: Deep Learning (DL) is a subset of ML that involves training artificial neural networks with multiple layers to learn patterns and make predictions based on large amounts of data. \n",
    "                  DL is used in applications such as image and speech recognition, natural language processing, and autonomous vehicles. \n",
    "                  For example, a self-driving car that can identify objects and make decisions based on its surroundings is an example of deep learning.\n",
    "'''"
   ]
  },
  {
   "cell_type": "markdown",
   "id": "862876c5-9b3b-4052-9da1-4a8f958c69ed",
   "metadata": {},
   "source": [
    "Q2: What is supervised learning? List some examples of supervised learning."
   ]
  },
  {
   "cell_type": "code",
   "execution_count": null,
   "id": "f3a36b44-b784-4e83-a92f-c1410fbe6216",
   "metadata": {},
   "outputs": [],
   "source": [
    "# Answer:\n",
    "'''\n",
    "Supervised learning is a type of machine learning in which the algorithm is trained on labeled data, meaning that the desired output is provided for each input. \n",
    "The algorithm learns to map inputs to outputs based on the labeled data, and can then make predictions on new, unlabeled data.\n",
    "Examples of supervised learning include image classification, spam detection, and stock price prediction.\n",
    "'''"
   ]
  },
  {
   "cell_type": "markdown",
   "id": "d6fd1c78-0e0d-4dd7-98a7-89b0aa6ddd08",
   "metadata": {},
   "source": [
    "Q3: What is unsupervised learning? List some examples of unsupervised learning."
   ]
  },
  {
   "cell_type": "code",
   "execution_count": null,
   "id": "e1a2bb8f-6d33-4e23-bc61-0c56fcb4fa9a",
   "metadata": {},
   "outputs": [],
   "source": [
    "# Answer:\n",
    "'''\n",
    "Unsupervised learning is a type of machine learning in which the algorithm is trained on unlabeled data, meaning that the desired output is not provided. \n",
    "The algorithm learns to find patterns and relationships in the data, such as clusters or associations, without any prior knowledge of the data. \n",
    "Examples of unsupervised learning include clustering, anomaly detection, and dimensionality reduction.\n",
    "'''"
   ]
  },
  {
   "cell_type": "markdown",
   "id": "c14d206b-b69e-40ac-921c-7901edeb382f",
   "metadata": {},
   "source": [
    "Q4: What is the difference between AI, ML, DL, and DS?"
   ]
  },
  {
   "cell_type": "code",
   "execution_count": null,
   "id": "0122b734-bbb0-40f3-83a9-e0511265fca1",
   "metadata": {},
   "outputs": [],
   "source": [
    "# Answer:\n",
    "'''\n",
    "Artificial Intelligence (AI) refers to the ability of machines to perform tasks that typically require human intelligence. \n",
    "Machine Learning (ML) is a subset of AI that focuses on developing algorithms and models that can learn patterns and make predictions based on data. \n",
    "Deep Learning (DL) is a subset of ML that involves training artificial neural networks with multiple layers to learn patterns and make predictions based on large amounts of data. \n",
    "Data Science (DS) is a field that involves using various techniques, including AI, ML, and statistics, to extract insights and knowledge from data.\n",
    "'''"
   ]
  },
  {
   "cell_type": "markdown",
   "id": "2f022775-c869-4876-a084-f3c2e004f8ad",
   "metadata": {},
   "source": [
    "Q5: What are the main differences between supervised, unsupervised, and semi-supervised learning?"
   ]
  },
  {
   "cell_type": "code",
   "execution_count": null,
   "id": "10b4689f-f852-4488-94ac-4ab290f3ceb0",
   "metadata": {},
   "outputs": [],
   "source": [
    "# Answer:\n",
    "'''\n",
    "Supervised learning is trained on labeled data, unsupervised learning is trained on unlabeled data, and semi-supervised learning is trained on a combination of labeled and unlabeled data. \n",
    "Supervised learning algorithms require labeled data to learn patterns and make predictions, while unsupervised learning algorithms do not require any prior knowledge of the data. \n",
    "Semi-supervised learning algorithms can improve performance by using a small amount of labeled data to guide the learning process.\n",
    "'''"
   ]
  },
  {
   "cell_type": "markdown",
   "id": "d881dbe1-2f31-411c-a09a-1fe1ec020946",
   "metadata": {},
   "source": [
    "Q6: What is train, test and validation split? Explain the importance of each term."
   ]
  },
  {
   "cell_type": "code",
   "execution_count": null,
   "id": "c754fdc4-23db-47ae-a136-fab5b0ed391c",
   "metadata": {},
   "outputs": [],
   "source": [
    "# Answer:\n",
    "'''\n",
    "Train, test, and validation split is a common technique used in machine learning to evaluate the performance of a model. The dataset is split into three parts: the training set, \n",
    "which is used to train the model; the validation set, which is used to evaluate the model's performance during training and select the best model; and the test set, \n",
    "which is used to evaluate the final performance of the model on new, unseen data. The training set is used to optimize the model's parameters, \n",
    "the validation set is used to tune hyperparameters and prevent overfitting, and the test set is used to estimate the generalization error of the model.\n",
    "'''"
   ]
  },
  {
   "cell_type": "markdown",
   "id": "241e6a68-bda2-4f06-aefd-83bb288331be",
   "metadata": {},
   "source": [
    "Q7: How can unsupervised learning be used in anomaly detection?"
   ]
  },
  {
   "cell_type": "code",
   "execution_count": null,
   "id": "0af83b7b-37cd-414e-a610-70a72c611c3f",
   "metadata": {},
   "outputs": [],
   "source": [
    "# Answer:\n",
    "'''\n",
    "Unsupervised learning can be used in anomaly detection by identifying patterns in data that deviate significantly from the norm. \n",
    "Anomalies, also known as outliers, are data points that do not conform to the expected behavior of the majority of the data.\n",
    "'''"
   ]
  },
  {
   "cell_type": "markdown",
   "id": "6f2dc745-4fde-4865-a728-33cfff1ee69b",
   "metadata": {},
   "source": [
    "Q8: List down some commonly used supervised learning algorithms and unsupervised learning algorithms."
   ]
  },
  {
   "cell_type": "code",
   "execution_count": null,
   "id": "93efd5a2-a5b9-4c05-9d61-161223db96dd",
   "metadata": {},
   "outputs": [],
   "source": [
    "# Answer:\n",
    "'''\n",
    "Commonly used supervised learning algorithms:\n",
    "\n",
    "1. Linear regression\n",
    "2. Logistic regression\n",
    "3. Decision tree\n",
    "4. Random forest\n",
    "5. Support vector machine (SVM)\n",
    "\n",
    "Commonly used unsupervised learning algorithms:\n",
    "\n",
    "1. K-means clustering\n",
    "2. Hierarchical clustering\n",
    "3. Gaussian mixture models (GMM)\n",
    "4. Principal component analysis (PCA)\n",
    "5. t-distributed stochastic neighbor embedding (t-SNE)\n",
    "'''"
   ]
  },
  {
   "cell_type": "code",
   "execution_count": null,
   "id": "83f5dee3-3055-414e-9c38-474e2dd2c9ca",
   "metadata": {},
   "outputs": [],
   "source": []
  }
 ],
 "metadata": {
  "kernelspec": {
   "display_name": "Python 3 (ipykernel)",
   "language": "python",
   "name": "python3"
  },
  "language_info": {
   "codemirror_mode": {
    "name": "ipython",
    "version": 3
   },
   "file_extension": ".py",
   "mimetype": "text/x-python",
   "name": "python",
   "nbconvert_exporter": "python",
   "pygments_lexer": "ipython3",
   "version": "3.10.8"
  }
 },
 "nbformat": 4,
 "nbformat_minor": 5
}
